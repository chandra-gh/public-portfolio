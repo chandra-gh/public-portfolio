{
 "cells": [
  {
   "cell_type": "markdown",
   "metadata": {},
   "source": [
    "# Handwritten Number Classifier\n",
    "\n",
    "Simple model to classify handwritten numbers.\n",
    "\n",
    "Model classifies 28x28 grayscale images from MNIST data set into one of the 10 digits."
   ]
  },
  {
   "cell_type": "code",
   "execution_count": 4,
   "metadata": {},
   "outputs": [],
   "source": [
    "import tensorflow as tf\n",
    "from tensorflow import keras\n",
    "from tensorflow.keras import layers\n",
    "import numpy as np\n",
    "import matplotlib.pyplot as plt"
   ]
  },
  {
   "cell_type": "code",
   "execution_count": 69,
   "metadata": {},
   "outputs": [],
   "source": [
    "# Load the input data\n",
    "(x_train_org, y_train_org), (x_test_org, y_test_org) = keras.datasets.mnist.load_data()\n",
    "x_train = x_train_org\n",
    "y_train = y_train_org\n",
    "x_test = x_test_org\n",
    "y_test = y_test_org"
   ]
  },
  {
   "cell_type": "code",
   "execution_count": 70,
   "metadata": {},
   "outputs": [
    {
     "name": "stdout",
     "output_type": "stream",
     "text": [
      "Shape of data\n",
      "-------------\n",
      "Training data (60000, 28, 28)\n",
      "Training labels (60000,)\n",
      "Test data (10000, 28, 28)\n",
      "Test labels (10000,)\n",
      "\n",
      "Sample labels [5 0 4 1 9]\n",
      "\n",
      "Train label frequencies\n",
      "5: 5421\n",
      "0: 5923\n",
      "4: 5842\n",
      "1: 6742\n",
      "9: 5949\n",
      "2: 5958\n",
      "3: 6131\n",
      "6: 5918\n",
      "7: 6265\n",
      "8: 5851\n",
      "\n",
      "Sample Image\n",
      "------------\n",
      "Expected label 5\n"
     ]
    },
    {
     "data": {
      "image/png": "[encoded data removed]",
      "text/plain": [
       "<Figure size 432x288 with 1 Axes>"
      ]
     },
     "metadata": {
      "needs_background": "light"
     },
     "output_type": "display_data"
    }
   ],
   "source": [
    "# Lets take a peek at the data.\n",
    "print('Shape of data')\n",
    "print('-------------')\n",
    "print('Training data', x_train_org.shape)\n",
    "print('Training labels', y_train_org.shape)\n",
    "print('Test data', x_test_org.shape)\n",
    "print('Test labels', y_test_org.shape)\n",
    "print()\n",
    "print('Sample labels', y_train_org[:5])\n",
    "print()\n",
    "\n",
    "# Frequency of Y labels.\n",
    "vals, _, counts = tf.unique_with_counts(y_train_org)\n",
    "print('Train label frequencies')\n",
    "for i in range(len(vals)):\n",
    "    print(f'{vals[i]}: {counts[i]}')\n",
    "print()\n",
    "\n",
    "# Sample image\n",
    "index = 0\n",
    "print('Sample Image')\n",
    "print('------------')\n",
    "plt.imshow(x_train_org[index], cmap='gray')\n",
    "print('Expected label', y_train_org[index])"
   ]
  },
  {
   "cell_type": "markdown",
   "metadata": {},
   "source": [
    "## Observations\n",
    "* We have 60,000 28x28 grayscale images. Images are white on black background.\n",
    "* Y labels are not one-hot encoded.\n",
    "* We have 10,000 test images."
   ]
  },
  {
   "cell_type": "code",
   "execution_count": 71,
   "metadata": {},
   "outputs": [
    {
     "name": "stdout",
     "output_type": "stream",
     "text": [
      "Model: \"sequential_12\"\n",
      "_________________________________________________________________\n",
      "Layer (type)                 Output Shape              Param #   \n",
      "=================================================================\n",
      "rescaling_13 (Rescaling)     (None, 28, 28)            0         \n",
      "_________________________________________________________________\n",
      "flatten_12 (Flatten)         (None, 784)               0         \n",
      "_________________________________________________________________\n",
      "dense_26 (Dense)             (None, 128)               100480    \n",
      "_________________________________________________________________\n",
      "dense_27 (Dense)             (None, 10)                1290      \n",
      "=================================================================\n",
      "Total params: 101,770\n",
      "Trainable params: 101,770\n",
      "Non-trainable params: 0\n",
      "_________________________________________________________________\n"
     ]
    }
   ],
   "source": [
    "# Create the model\n",
    "model = keras.Sequential([\n",
    "    layers.Input(shape=(28, 28)),\n",
    "    # Normalize grayscale values.\n",
    "    layers.experimental.preprocessing.Rescaling(1.0/255.),\n",
    "    layers.Flatten(),\n",
    "    layers.Dense(128, activation='relu'),\n",
    "    layers.Dense(10, activation='softmax')\n",
    "])\n",
    "\n",
    "# Use sparse_categorical_crossentropy instead of categorical_crossentropy because Y-labels are not one-hot encoded.\n",
    "model.compile(loss='sparse_categorical_crossentropy', optimizer='adam', metrics=['accuracy'])\n",
    "model.summary()"
   ]
  },
  {
   "cell_type": "code",
   "execution_count": 72,
   "metadata": {},
   "outputs": [
    {
     "name": "stdout",
     "output_type": "stream",
     "text": [
      "Epoch 1/10\n",
      "1875/1875 [==============================] - 3s 2ms/step - loss: 0.2645 - accuracy: 0.9247\n",
      "Epoch 2/10\n",
      "1875/1875 [==============================] - 3s 2ms/step - loss: 0.1175 - accuracy: 0.9646\n",
      "Epoch 3/10\n",
      "1875/1875 [==============================] - 3s 2ms/step - loss: 0.0807 - accuracy: 0.9754\n",
      "Epoch 4/10\n",
      "1875/1875 [==============================] - 3s 2ms/step - loss: 0.0592 - accuracy: 0.9816\n",
      "Epoch 5/10\n",
      "1875/1875 [==============================] - 3s 2ms/step - loss: 0.0461 - accuracy: 0.9863: 0s - loss: 0.0463 \n",
      "Epoch 6/10\n",
      "1875/1875 [==============================] - 3s 2ms/step - loss: 0.0362 - accuracy: 0.9888\n",
      "Epoch 7/10\n",
      "1875/1875 [==============================] - 3s 2ms/step - loss: 0.0302 - accuracy: 0.9906\n",
      "Epoch 8/10\n",
      "1875/1875 [==============================] - 3s 2ms/step - loss: 0.0224 - accuracy: 0.9931\n",
      "Epoch 9/10\n",
      "1875/1875 [==============================] - 3s 2ms/step - loss: 0.0200 - accuracy: 0.9936\n",
      "Epoch 10/10\n",
      "1875/1875 [==============================] - 3s 2ms/step - loss: 0.0163 - accuracy: 0.9946\n"
     ]
    },
    {
     "data": {
      "text/plain": [
       "<tensorflow.python.keras.callbacks.History at 0x7ff04923c610>"
      ]
     },
     "execution_count": 72,
     "metadata": {},
     "output_type": "execute_result"
    }
   ],
   "source": [
    "# Train the model\n",
    "model.fit(x_train, y_train, epochs=10)"
   ]
  },
  {
   "cell_type": "code",
   "execution_count": 73,
   "metadata": {},
   "outputs": [
    {
     "name": "stdout",
     "output_type": "stream",
     "text": [
      "313/313 [==============================] - 0s 1ms/step - loss: 0.0854 - accuracy: 0.9784\n"
     ]
    },
    {
     "data": {
      "text/plain": [
       "[0.08541655540466309, 0.9783999919891357]"
      ]
     },
     "execution_count": 73,
     "metadata": {},
     "output_type": "execute_result"
    }
   ],
   "source": [
    "# Evaluate the model on the test set.\n",
    "model.evaluate(x_test, y_test)"
   ]
  },
  {
   "cell_type": "code",
   "execution_count": 74,
   "metadata": {},
   "outputs": [
    {
     "name": "stdout",
     "output_type": "stream",
     "text": [
      "98.7, 0.0, 0.1, 0.0, 0.4, 0.1, 0.1, 0.0, 0.3, 0.3\n",
      "0.0, 99.1, 0.2, 0.3, 0.0, 0.1, 0.2, 0.1, 0.1, 0.0\n",
      "0.7, 0.3, 95.8, 0.8, 1.1, 0.0, 0.1, 0.3, 1.0, 0.0\n",
      "0.0, 0.0, 0.0, 98.1, 0.2, 0.6, 0.0, 0.1, 0.5, 0.5\n",
      "0.1, 0.0, 0.0, 0.1, 99.3, 0.0, 0.1, 0.0, 0.0, 0.4\n",
      "0.2, 0.0, 0.0, 0.7, 0.2, 97.4, 0.8, 0.0, 0.6, 0.1\n",
      "0.6, 0.3, 0.1, 0.1, 0.8, 0.3, 97.4, 0.0, 0.3, 0.0\n",
      "0.0, 0.6, 0.8, 0.3, 0.5, 0.0, 0.0, 96.7, 0.4, 0.8\n",
      "0.6, 0.0, 0.2, 0.3, 0.3, 0.3, 0.0, 0.1, 97.8, 0.3\n",
      "0.0, 0.2, 0.0, 0.1, 1.0, 0.5, 0.1, 0.0, 0.2, 97.9\n"
     ]
    }
   ],
   "source": [
    "# Error analysis\n",
    "results = np.zeros((10, 10), dtype='int32')\n",
    "preds = model.predict(x_test)\n",
    "for index in range(preds.shape[0]):\n",
    "    expected = y_test[index]\n",
    "    predicted = np.argmax(preds[index])\n",
    "    results[expected][predicted] += 1\n",
    "    \n",
    "for index in range(10):\n",
    "    row_total = np.sum(results[index])\n",
    "    row_pct = results[index]/row_total*100.\n",
    "    vals = []\n",
    "    for col in range(10):\n",
    "        vals.append(f'{row_pct[col]:.1f}')\n",
    "    print(\", \".join(vals))\n"
   ]
  },
  {
   "cell_type": "code",
   "execution_count": 75,
   "metadata": {},
   "outputs": [
    {
     "name": "stdout",
     "output_type": "stream",
     "text": [
      "\n",
      "    Expected: 9\n",
      "    Predicted: 9\n",
      "    Probability: 1.00\n"
     ]
    },
    {
     "data": {
      "image/png": "[encoded data removed]",
      "text/plain": [
       "<Figure size 432x288 with 1 Axes>"
      ]
     },
     "metadata": {
      "needs_background": "light"
     },
     "output_type": "display_data"
    }
   ],
   "source": [
    "# Test the model.\n",
    "index = 9\n",
    "x_in = x_test[index]\n",
    "plt.imshow(x_in, cmap='gray')\n",
    "preds = model.predict(np.array([x_in]))[0]\n",
    "pred_val = np.argmax(preds)\n",
    "print(f\"\"\"\n",
    "    Expected: {y_test[index]}\n",
    "    Predicted: {pred_val}\n",
    "    Probability: {preds[pred_val]:.2f}\"\"\"\n",
    ")"
   ]
  },
  {
   "cell_type": "markdown",
   "metadata": {},
   "source": [
    "## Conclusion\n",
    "\n",
    "This is a very simple model to illustrate Keras and Deep Learning. It will not work as well in the real world for couple of reasons:\n",
    "* Numbers may not be centered in the image or could be smaller relative to the image. \n",
    "* Background noise can be varied - lines, spots.\n",
    "\n",
    "For the simple purpose of illustrating building a deep learning model in Keras, I think it serves well.\n",
    "\n",
    "Next lets deploy this model and see how it does with recognizing real handwritten numbers!!"
   ]
  },
  {
   "cell_type": "code",
   "execution_count": 76,
   "metadata": {},
   "outputs": [
    {
     "name": "stdout",
     "output_type": "stream",
     "text": [
      "INFO:tensorflow:Assets written to: hw-num-classifier-model/assets\n"
     ]
    }
   ],
   "source": [
    "# Save the model\n",
    "model.save('hw-num-classifier-model')"
   ]
  },
  {
   "cell_type": "code",
   "execution_count": null,
   "metadata": {},
   "outputs": [],
   "source": []
  }
 ],
 "metadata": {
  "kernelspec": {
   "display_name": "Python 3",
   "language": "python",
   "name": "python3"
  },
  "language_info": {
   "codemirror_mode": {
    "name": "ipython",
    "version": 3
   },
   "file_extension": ".py",
   "mimetype": "text/x-python",
   "name": "python",
   "nbconvert_exporter": "python",
   "pygments_lexer": "ipython3",
   "version": "3.7.7"
  }
 },
 "nbformat": 4,
 "nbformat_minor": 4
}
