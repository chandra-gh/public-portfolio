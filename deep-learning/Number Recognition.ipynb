{
 "cells": [
  {
   "cell_type": "markdown",
   "metadata": {},
   "source": [
    "# Number Recognition\n",
    "\n",
    "Simple 2-layer model to recognize handwritten numbers.\n",
    "\n",
    "Model classifies 28x28 grayscale images from MNIST data set into one of the 10 digits."
   ]
  },
  {
   "cell_type": "code",
   "execution_count": 9,
   "metadata": {},
   "outputs": [],
   "source": [
    "from tensorflow import keras\n",
    "from tensorflow.keras import layers\n",
    "import numpy as np\n",
    "import matplotlib.pyplot as plt"
   ]
  },
  {
   "cell_type": "code",
   "execution_count": 10,
   "metadata": {},
   "outputs": [],
   "source": [
    "# Load the input data\n",
    "(x_train, y_train), (x_test, y_test) = keras.datasets.mnist.load_data()"
   ]
  },
  {
   "cell_type": "code",
   "execution_count": 11,
   "metadata": {},
   "outputs": [
    {
     "name": "stdout",
     "output_type": "stream",
     "text": [
      "Shape of data\n",
      "-------------\n",
      "Training data (60000, 28, 28)\n",
      "Training labels (60000,)\n",
      "Test data (10000, 28, 28)\n",
      "Test labels (10000,)\n",
      "\n",
      "Sample labels [5 0 4 1 9]\n",
      "\n",
      "Sample Image\n",
      "------------\n",
      "Expected label 5\n"
     ]
    },
    {
     "data": {
      "image/png": "[encoded data removed]",
      "text/plain": [
       "<Figure size 432x288 with 1 Axes>"
      ]
     },
     "metadata": {
      "needs_background": "light"
     },
     "output_type": "display_data"
    }
   ],
   "source": [
    "# Lets take a peek at the data.\n",
    "print('Shape of data')\n",
    "print('-------------')\n",
    "print('Training data', x_train.shape)\n",
    "print('Training labels', y_train.shape)\n",
    "print('Test data', x_test.shape)\n",
    "print('Test labels', y_test.shape)\n",
    "print()\n",
    "print('Sample labels', y_train[:5])\n",
    "print()\n",
    "\n",
    "# Sample image\n",
    "index = 0\n",
    "print('Sample Image')\n",
    "print('------------')\n",
    "plt.imshow(x_train[index], cmap='gray')\n",
    "print('Expected label', y_train[index])"
   ]
  },
  {
   "cell_type": "markdown",
   "metadata": {},
   "source": [
    "## Observations\n",
    "* We have 60,000 28x28 grayscale images. Images are white on black background.\n",
    "* Y labels are not one-hot encoded.\n",
    "* We have 10,000 test images.\n",
    "\n",
    "We want the model to recognize both white numbers on black background and black numbers of a white background. Augment the data with inverted grayscale images."
   ]
  },
  {
   "cell_type": "code",
   "execution_count": 21,
   "metadata": {},
   "outputs": [
    {
     "name": "stdout",
     "output_type": "stream",
     "text": [
      "(240000, 28, 28) (240000,) (40000, 28, 28) (40000,)\n"
     ]
    }
   ],
   "source": [
    "# Augment data with inverted grayscale images.\n",
    "x_train_inv = 255 - x_train\n",
    "x_test_inv = 255 - x_test\n",
    "\n",
    "x_train = np.append(x_train, x_train_inv, axis=0)\n",
    "y_train = np.append(y_train, y_train, axis=0)\n",
    "x_test = np.append(x_test, x_test_inv, axis=0)\n",
    "y_test = np.append(y_test, y_test, axis=0)\n",
    "\n",
    "# Print the new shape of train and test data.\n",
    "print(x_train.shape, y_train.shape, x_test.shape, y_test.shape)"
   ]
  },
  {
   "cell_type": "markdown",
   "metadata": {},
   "source": [
    "## Rationale behind the model\n",
    "\n",
    "Model performance vs. number of units in the hidden relu layer.\n",
    "\n",
    "||Units|Parameters|Train Acc.|Test Acc.|\n",
    "|--|--|--|--|--|\n",
    "|Model 1|128|~100,000|97%|95%|\n",
    "|Model 2|64|~51,000|97%|95%|\n",
    "|Model 3|32|~25,000|95%|94%|\n",
    "|Model 4|16|~12,000|90%|90%|\n",
    "\n",
    "Models 1 and 2 overfit the training set and are computationally expensive. \n",
    "Model 3 offers the best tradeoff - slight loss of accuracy for better computational performance."
   ]
  },
  {
   "cell_type": "code",
   "execution_count": 36,
   "metadata": {},
   "outputs": [
    {
     "name": "stdout",
     "output_type": "stream",
     "text": [
      "Model: \"model_7\"\n",
      "_________________________________________________________________\n",
      "Layer (type)                 Output Shape              Param #   \n",
      "=================================================================\n",
      "input_8 (InputLayer)         [(None, 28, 28)]          0         \n",
      "_________________________________________________________________\n",
      "rescaling_7 (Rescaling)      (None, 28, 28)            0         \n",
      "_________________________________________________________________\n",
      "flatten_7 (Flatten)          (None, 784)               0         \n",
      "_________________________________________________________________\n",
      "dense_13 (Dense)             (None, 32)                25120     \n",
      "_________________________________________________________________\n",
      "dense_14 (Dense)             (None, 10)                330       \n",
      "=================================================================\n",
      "Total params: 25,450\n",
      "Trainable params: 25,450\n",
      "Non-trainable params: 0\n",
      "_________________________________________________________________\n"
     ]
    }
   ],
   "source": [
    "# Create the model\n",
    "inputs = keras.Input(shape=(28, 28))\n",
    "\n",
    "# Normalize grayscale values.\n",
    "x = layers.experimental.preprocessing.Rescaling(1.0/255.)(inputs)\n",
    "x = layers.Flatten()(x)\n",
    "x = layers.Dense(32, activation='relu')(x)\n",
    "outputs = layers.Dense(10, activation='softmax')(x)\n",
    "\n",
    "model = keras.Model(inputs=inputs, outputs=outputs)\n",
    "\n",
    "# Use sparse_categorical_crossentropy instead of categorical_crossentropy because Y-labels are not one-hot encoded.\n",
    "model.compile(loss='sparse_categorical_crossentropy', optimizer='adam', metrics=['accuracy'])\n",
    "model.summary()"
   ]
  },
  {
   "cell_type": "code",
   "execution_count": 37,
   "metadata": {},
   "outputs": [
    {
     "name": "stdout",
     "output_type": "stream",
     "text": [
      "Epoch 1/10\n",
      "7500/7500 [==============================] - 9s 1ms/step - loss: 0.6543 - accuracy: 0.7881\n",
      "Epoch 2/10\n",
      "7500/7500 [==============================] - 10s 1ms/step - loss: 0.3662 - accuracy: 0.8931\n",
      "Epoch 3/10\n",
      "7500/7500 [==============================] - 10s 1ms/step - loss: 0.3183 - accuracy: 0.9052\n",
      "Epoch 4/10\n",
      "7500/7500 [==============================] - 10s 1ms/step - loss: 0.2680 - accuracy: 0.9209\n",
      "Epoch 5/10\n",
      "7500/7500 [==============================] - 10s 1ms/step - loss: 0.2307 - accuracy: 0.9311\n",
      "Epoch 6/10\n",
      "7500/7500 [==============================] - 10s 1ms/step - loss: 0.2087 - accuracy: 0.9380\n",
      "Epoch 7/10\n",
      "7500/7500 [==============================] - 10s 1ms/step - loss: 0.1966 - accuracy: 0.9413\n",
      "Epoch 8/10\n",
      "7500/7500 [==============================] - 10s 1ms/step - loss: 0.1844 - accuracy: 0.9448\n",
      "Epoch 9/10\n",
      "7500/7500 [==============================] - 10s 1ms/step - loss: 0.1727 - accuracy: 0.9480\n",
      "Epoch 10/10\n",
      "7500/7500 [==============================] - 10s 1ms/step - loss: 0.1612 - accuracy: 0.9513\n"
     ]
    },
    {
     "data": {
      "text/plain": [
       "<tensorflow.python.keras.callbacks.History at 0x7fcf20e09710>"
      ]
     },
     "execution_count": 37,
     "metadata": {},
     "output_type": "execute_result"
    }
   ],
   "source": [
    "# Train the model\n",
    "model.fit(x_train, y_train, epochs=10)"
   ]
  },
  {
   "cell_type": "code",
   "execution_count": 35,
   "metadata": {},
   "outputs": [
    {
     "name": "stdout",
     "output_type": "stream",
     "text": [
      "1250/1250 [==============================] - 1s 970us/step - loss: 0.3458 - accuracy: 0.9018\n"
     ]
    },
    {
     "data": {
      "text/plain": [
       "[0.34578704833984375, 0.9017999768257141]"
      ]
     },
     "execution_count": 35,
     "metadata": {},
     "output_type": "execute_result"
    }
   ],
   "source": [
    "# Evaluate the model on the test set.\n",
    "model.evaluate(x_test, y_test)"
   ]
  },
  {
   "cell_type": "code",
   "execution_count": 49,
   "metadata": {},
   "outputs": [
    {
     "name": "stdout",
     "output_type": "stream",
     "text": [
      "\n",
      "    Expected: 4\n",
      "    Predicted: 4\n",
      "    Probability: 0.93\n"
     ]
    },
    {
     "data": {
      "image/png": "[encoded data removed]",
      "text/plain": [
       "<Figure size 432x288 with 1 Axes>"
      ]
     },
     "metadata": {
      "needs_background": "light"
     },
     "output_type": "display_data"
    }
   ],
   "source": [
    "# Test the model.\n",
    "index = 12005\n",
    "x_in = x_test[index]\n",
    "plt.imshow(x_in, cmap='gray')\n",
    "preds = model.predict(np.array([x_in]))[0]\n",
    "pred_val = np.argmax(preds)\n",
    "print(f\"\"\"\n",
    "    Expected: {y_test[index]}\n",
    "    Predicted: {pred_val}\n",
    "    Probability: {preds[pred_val]:.2f}\"\"\"\n",
    ")"
   ]
  },
  {
   "cell_type": "markdown",
   "metadata": {},
   "source": [
    "## Conclusion\n",
    "\n",
    "This is a very simple model to illustrate Keras and Deep Learning. It will not work as well in the real world for couple of reasons:\n",
    "* Numbers may not be centered in the image or could be smaller relative to the image. \n",
    "* Background noise can be varied - lines, spots.\n",
    "\n",
    "For the simple purpose of illustrating building a deep learning model in Keras, I think it serves well.\n",
    "\n",
    "Next lets deploy this model and see how it does with recognizing real handwritten numbers!!"
   ]
  },
  {
   "cell_type": "code",
   "execution_count": null,
   "metadata": {},
   "outputs": [],
   "source": []
  }
 ],
 "metadata": {
  "kernelspec": {
   "display_name": "Python 3",
   "language": "python",
   "name": "python3"
  },
  "language_info": {
   "codemirror_mode": {
    "name": "ipython",
    "version": 3
   },
   "file_extension": ".py",
   "mimetype": "text/x-python",
   "name": "python",
   "nbconvert_exporter": "python",
   "pygments_lexer": "ipython3",
   "version": "3.7.7"
  }
 },
 "nbformat": 4,
 "nbformat_minor": 4
}
